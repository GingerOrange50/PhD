{
 "cells": [
  {
   "cell_type": "code",
   "execution_count": 1,
   "metadata": {},
   "outputs": [],
   "source": [
    "import os\n",
    "import json"
   ]
  },
  {
   "cell_type": "code",
   "execution_count": 2,
   "metadata": {},
   "outputs": [],
   "source": [
    "import math\n",
    "import matplotlib.pyplot as plt"
   ]
  },
  {
   "cell_type": "code",
   "execution_count": 3,
   "metadata": {
    "scrolled": true
   },
   "outputs": [],
   "source": [
    "import rasterio as rio\n",
    "from rasterio.plot import show\n",
    "from rasterstats import zonal_stats"
   ]
  },
  {
   "cell_type": "code",
   "execution_count": 4,
   "metadata": {},
   "outputs": [],
   "source": [
    "import osmnx as ox\n",
    "import geopandas as gpd"
   ]
  },
  {
   "cell_type": "code",
   "execution_count": 5,
   "metadata": {},
   "outputs": [],
   "source": [
    "import earthpy as et\n",
    "import earthpy.spatial as es\n",
    "import earthpy.plot as ep"
   ]
  },
  {
   "cell_type": "code",
   "execution_count": 6,
   "metadata": {},
   "outputs": [],
   "source": [
    "import pandas as pd\n",
    "from pandas import DataFrame\n",
    "from geopandas import GeoDataFrame\n",
    "import seaborn as sbn"
   ]
  },
  {
   "cell_type": "code",
   "execution_count": 7,
   "metadata": {},
   "outputs": [],
   "source": [
    "import numpy\n",
    "import matplotlib.pyplot as plt"
   ]
  },
  {
   "cell_type": "code",
   "execution_count": 8,
   "metadata": {
    "scrolled": true
   },
   "outputs": [],
   "source": [
    "## Import EVI satellite image\n",
    "os.chdir(\"C:/Users/amy/Documents/GBS/exposures/final_data/ndvi\")\n",
    "image_file = \"ndvi_wales_2012.tif\"\n",
    "sat_data = rio.open(image_file)"
   ]
  },
  {
   "cell_type": "code",
   "execution_count": 9,
   "metadata": {},
   "outputs": [],
   "source": [
    "## Import buffer shapefile as a dataframe\n",
    "df = GeoDataFrame.from_file(\"C:/Users/amy/Documents/GBS/exposures/final_data/wales_addresses_buffered_wimd.shp\")"
   ]
  },
  {
   "cell_type": "code",
   "execution_count": 10,
   "metadata": {},
   "outputs": [],
   "source": [
    "##dfb = GeoDataFrame.from_file(\"C:/Users/amy/Documents/GBS/exposures/sample_buff.shp\")"
   ]
  },
  {
   "cell_type": "code",
   "execution_count": 11,
   "metadata": {},
   "outputs": [],
   "source": [
    "from osgeo import gdal\n",
    "import numpy as np\n",
    "\n",
    "ds = gdal.Open(\"ndvi_wales_2012.tif\")\n",
    "band =  ds.GetRasterBand(1)\n",
    "array = np.array(band.ReadAsArray())\n",
    "values = np.unique(array)"
   ]
  },
  {
   "cell_type": "code",
   "execution_count": 12,
   "metadata": {},
   "outputs": [
    {
     "name": "stdout",
     "output_type": "stream",
     "text": [
      "[-1.3475311e+00 -1.1458733e+00 -1.0571976e+00 ...  9.0245467e-01\n",
      "  9.5866895e-01  3.4028235e+38]\n"
     ]
    }
   ],
   "source": [
    "print (values)"
   ]
  },
  {
   "cell_type": "code",
   "execution_count": 12,
   "metadata": {},
   "outputs": [],
   "source": [
    "##Calculate zonal stats for home buffers for a single satellite image\n",
    "stats = zonal_stats(df,\"ndvi_wales_2012.tif\", stats=['min','mean', 'max', 'median'], nodata= None, geojson_out=True)"
   ]
  },
  {
   "cell_type": "code",
   "execution_count": 13,
   "metadata": {},
   "outputs": [
    {
     "data": {
      "text/plain": [
       "'Feature'"
      ]
     },
     "execution_count": 13,
     "metadata": {},
     "output_type": "execute_result"
    }
   ],
   "source": [
    "stats[0]['type']"
   ]
  },
  {
   "cell_type": "code",
   "execution_count": 14,
   "metadata": {},
   "outputs": [
    {
     "data": {
      "text/plain": [
       "{'id': '0',\n",
       " 'type': 'Feature',\n",
       " 'properties': {'classifica': 'RD06',\n",
       "  'end_date': None,\n",
       "  'entry_date': '2005-04-13',\n",
       "  'last_updat': '2016-02-10',\n",
       "  'local_auth': 'Wrexham',\n",
       "  'lsoa': 'W01000409',\n",
       "  'lsoa_name': 'Wrexham 017E',\n",
       "  'start_date': '2008-01-18',\n",
       "  'uprn': 100100864090.0,\n",
       "  'wimd_quint': 1.0,\n",
       "  'min': 0.0,\n",
       "  'max': 0.0,\n",
       "  'mean': 0.0,\n",
       "  'median': 0.0},\n",
       " 'geometry': {'type': 'Polygon',\n",
       "  'coordinates': (((329278.15, 343446.26),\n",
       "    (329272.385584121, 343387.7329033952),\n",
       "    (329255.3138597534, 343331.4549702905),\n",
       "    (329227.5908836908, 343279.58893009415),\n",
       "    (329190.282034356, 343234.12796564406),\n",
       "    (329144.8210699059, 343196.8191163092),\n",
       "    (329092.95502970956, 343169.0961402466),\n",
       "    (329036.67709660484, 343152.02441587904),\n",
       "    (328978.15, 343146.26),\n",
       "    (328919.6229033952, 343152.02441587904),\n",
       "    (328863.3449702905, 343169.0961402466),\n",
       "    (328811.47893009416, 343196.8191163092),\n",
       "    (328766.0179656441, 343234.12796564406),\n",
       "    (328728.70911630924, 343279.58893009415),\n",
       "    (328700.9861402466, 343331.4549702905),\n",
       "    (328683.91441587906, 343387.7329033952),\n",
       "    (328678.15, 343446.26),\n",
       "    (328683.91441587906, 343504.7870966048),\n",
       "    (328700.9861402466, 343561.06502970954),\n",
       "    (328728.70911630924, 343612.93106990587),\n",
       "    (328766.0179656441, 343658.39203435596),\n",
       "    (328811.47893009416, 343695.7008836908),\n",
       "    (328863.3449702905, 343723.4238597534),\n",
       "    (328919.6229033952, 343740.495584121),\n",
       "    (328978.15, 343746.26),\n",
       "    (329036.67709660484, 343740.495584121),\n",
       "    (329092.95502970956, 343723.4238597534),\n",
       "    (329144.8210699059, 343695.7008836908),\n",
       "    (329190.282034356, 343658.39203435596),\n",
       "    (329227.5908836908, 343612.93106990587),\n",
       "    (329255.3138597534, 343561.06502970954),\n",
       "    (329272.385584121, 343504.7870966048),\n",
       "    (329278.15, 343446.26)),)},\n",
       " 'bbox': (328678.15, 343146.26, 329278.15, 343746.26)}"
      ]
     },
     "execution_count": 14,
     "metadata": {},
     "output_type": "execute_result"
    }
   ],
   "source": [
    "stats[0]"
   ]
  },
  {
   "cell_type": "code",
   "execution_count": 15,
   "metadata": {},
   "outputs": [
    {
     "data": {
      "text/plain": [
       "(list, 1498120)"
      ]
     },
     "execution_count": 15,
     "metadata": {},
     "output_type": "execute_result"
    }
   ],
   "source": [
    "type(stats), len(stats)"
   ]
  },
  {
   "cell_type": "code",
   "execution_count": 16,
   "metadata": {},
   "outputs": [
    {
     "data": {
      "text/html": [
       "<div>\n",
       "<style scoped>\n",
       "    .dataframe tbody tr th:only-of-type {\n",
       "        vertical-align: middle;\n",
       "    }\n",
       "\n",
       "    .dataframe tbody tr th {\n",
       "        vertical-align: top;\n",
       "    }\n",
       "\n",
       "    .dataframe thead th {\n",
       "        text-align: right;\n",
       "    }\n",
       "</style>\n",
       "<table border=\"1\" class=\"dataframe\">\n",
       "  <thead>\n",
       "    <tr style=\"text-align: right;\">\n",
       "      <th></th>\n",
       "      <th>geometry</th>\n",
       "      <th>classifica</th>\n",
       "      <th>end_date</th>\n",
       "      <th>entry_date</th>\n",
       "      <th>last_updat</th>\n",
       "      <th>local_auth</th>\n",
       "      <th>lsoa</th>\n",
       "      <th>lsoa_name</th>\n",
       "      <th>start_date</th>\n",
       "      <th>uprn</th>\n",
       "      <th>wimd_quint</th>\n",
       "      <th>min</th>\n",
       "      <th>max</th>\n",
       "      <th>mean</th>\n",
       "      <th>median</th>\n",
       "    </tr>\n",
       "  </thead>\n",
       "  <tbody>\n",
       "    <tr>\n",
       "      <th>0</th>\n",
       "      <td>POLYGON ((329278.150 343446.260, 329272.386 34...</td>\n",
       "      <td>RD06</td>\n",
       "      <td>None</td>\n",
       "      <td>2005-04-13</td>\n",
       "      <td>2016-02-10</td>\n",
       "      <td>Wrexham</td>\n",
       "      <td>W01000409</td>\n",
       "      <td>Wrexham 017E</td>\n",
       "      <td>2008-01-18</td>\n",
       "      <td>1.001009e+11</td>\n",
       "      <td>1.0</td>\n",
       "      <td>0.0</td>\n",
       "      <td>0.0</td>\n",
       "      <td>0.0</td>\n",
       "      <td>0.0</td>\n",
       "    </tr>\n",
       "    <tr>\n",
       "      <th>1</th>\n",
       "      <td>POLYGON ((329224.680 343494.120, 329218.916 34...</td>\n",
       "      <td>RD04</td>\n",
       "      <td>None</td>\n",
       "      <td>2005-04-13</td>\n",
       "      <td>2016-02-10</td>\n",
       "      <td>Wrexham</td>\n",
       "      <td>W01000409</td>\n",
       "      <td>Wrexham 017E</td>\n",
       "      <td>2008-01-18</td>\n",
       "      <td>1.001009e+11</td>\n",
       "      <td>1.0</td>\n",
       "      <td>0.0</td>\n",
       "      <td>0.0</td>\n",
       "      <td>0.0</td>\n",
       "      <td>0.0</td>\n",
       "    </tr>\n",
       "  </tbody>\n",
       "</table>\n",
       "</div>"
      ],
      "text/plain": [
       "                                            geometry classifica end_date  \\\n",
       "0  POLYGON ((329278.150 343446.260, 329272.386 34...       RD06     None   \n",
       "1  POLYGON ((329224.680 343494.120, 329218.916 34...       RD04     None   \n",
       "\n",
       "   entry_date  last_updat local_auth       lsoa     lsoa_name  start_date  \\\n",
       "0  2005-04-13  2016-02-10    Wrexham  W01000409  Wrexham 017E  2008-01-18   \n",
       "1  2005-04-13  2016-02-10    Wrexham  W01000409  Wrexham 017E  2008-01-18   \n",
       "\n",
       "           uprn  wimd_quint  min  max  mean  median  \n",
       "0  1.001009e+11         1.0  0.0  0.0   0.0     0.0  \n",
       "1  1.001009e+11         1.0  0.0  0.0   0.0     0.0  "
      ]
     },
     "execution_count": 16,
     "metadata": {},
     "output_type": "execute_result"
    }
   ],
   "source": [
    "stats_gdf = GeoDataFrame.from_features(stats)\n",
    "stats_gdf.head(2)"
   ]
  },
  {
   "cell_type": "code",
   "execution_count": 17,
   "metadata": {},
   "outputs": [],
   "source": [
    "import seaborn as sbn"
   ]
  },
  {
   "cell_type": "code",
   "execution_count": 19,
   "metadata": {},
   "outputs": [
    {
     "data": {
      "text/plain": [
       "<matplotlib.axes._subplots.AxesSubplot at 0x1992c6caac8>"
      ]
     },
     "execution_count": 19,
     "metadata": {},
     "output_type": "execute_result"
    },
    {
     "data": {
      "image/png": "[encoded data removed]",
      "text/plain": [
       "<Figure size 432x288 with 1 Axes>"
      ]
     },
     "metadata": {
      "needs_background": "light"
     },
     "output_type": "display_data"
    }
   ],
   "source": [
    "sbn.distplot(stats_gdf['mean'])"
   ]
  },
  {
   "cell_type": "code",
   "execution_count": 21,
   "metadata": {
    "scrolled": false
   },
   "outputs": [
    {
     "data": {
      "text/plain": [
       "<matplotlib.axes._subplots.AxesSubplot at 0x20383f942c8>"
      ]
     },
     "execution_count": 21,
     "metadata": {},
     "output_type": "execute_result"
    },
    {
     "data": {
      "image/png": "[encoded data removed]",
      "text/plain": [
       "<Figure size 432x288 with 1 Axes>"
      ]
     },
     "metadata": {
      "needs_background": "light"
     },
     "output_type": "display_data"
    }
   ],
   "source": [
    "stats_gdf.plot(column='mean')"
   ]
  },
  {
   "cell_type": "code",
   "execution_count": 20,
   "metadata": {},
   "outputs": [],
   "source": [
    "stats_gdf.to_csv(\"ndvi_zonal_stats_2019.csv\")"
   ]
  },
  {
   "cell_type": "code",
   "execution_count": 30,
   "metadata": {},
   "outputs": [
    {
     "ename": "ModuleNotFoundError",
     "evalue": "No module named 'arcpy'",
     "output_type": "error",
     "traceback": [
      "\u001b[1;31m---------------------------------------------------------------------------\u001b[0m",
      "\u001b[1;31mModuleNotFoundError\u001b[0m                       Traceback (most recent call last)",
      "\u001b[1;32m<ipython-input-30-db9e784ab048>\u001b[0m in \u001b[0;36m<module>\u001b[1;34m\u001b[0m\n\u001b[1;32m----> 1\u001b[1;33m \u001b[1;32mimport\u001b[0m \u001b[0marcpy\u001b[0m\u001b[1;33m\u001b[0m\u001b[1;33m\u001b[0m\u001b[0m\n\u001b[0m\u001b[0;32m      2\u001b[0m \u001b[1;32mimport\u001b[0m \u001b[0mnumpy\u001b[0m\u001b[1;33m\u001b[0m\u001b[1;33m\u001b[0m\u001b[0m\n\u001b[0;32m      3\u001b[0m \u001b[1;33m\u001b[0m\u001b[0m\n\u001b[0;32m      4\u001b[0m \u001b[1;31m# Get input Raster properties\u001b[0m\u001b[1;33m\u001b[0m\u001b[1;33m\u001b[0m\u001b[1;33m\u001b[0m\u001b[0m\n\u001b[0;32m      5\u001b[0m \u001b[0minRas\u001b[0m \u001b[1;33m=\u001b[0m \u001b[0marcpy\u001b[0m\u001b[1;33m.\u001b[0m\u001b[0mRaster\u001b[0m\u001b[1;33m(\u001b[0m\u001b[1;34m'D:/Landsat/2018 Summer/Landsat 8/testing/evi_clouds_removed'\u001b[0m\u001b[1;33m)\u001b[0m\u001b[1;33m\u001b[0m\u001b[1;33m\u001b[0m\u001b[0m\n",
      "\u001b[1;31mModuleNotFoundError\u001b[0m: No module named 'arcpy'"
     ]
    }
   ],
   "source": [
    "import arcpy\n",
    "import numpy\n",
    "\n",
    "# Get input Raster properties\n",
    "inRas = arcpy.Raster('D:/Landsat/2018 Summer/Landsat 8/testing/evi_clouds_removed')\n",
    "lowerLeft = arcpy.Point(inRas.extent.XMin,inRas.extent.YMin)\n",
    "cellSize = ras.meanCellWidth\n",
    "\n",
    "# Convert Raster to numpy array\n",
    "arr = arcpy.RasterToNumPyArray(inRas,nodata_to_value=-9999)\n",
    "\n",
    "# Calculate percentage of the row for each cell value\n",
    "arrSum = arr.sum(1)\n",
    "arrSum.shape = (arr.shape[0],1)\n",
    "arrPerc = (arr)/arrSum\n",
    "\n",
    "#Convert Array to raster (keep the origin and cellsize the same as the input)\n",
    "newRaster = arcpy.NumPyArrayToRaster(arrPerc,lowerLeft,cellSize,\n",
    "                                     value_to_nodata=-9999)\n",
    "newRaster.save(\"D:/Landsat/2018 Summer/Landsat 8/testing/PercentRaster\")"
   ]
  },
  {
   "cell_type": "code",
   "execution_count": null,
   "metadata": {},
   "outputs": [],
   "source": []
  }
 ],
 "metadata": {
  "kernelspec": {
   "display_name": "Python 3 (ipykernel)",
   "language": "python",
   "name": "python3"
  },
  "language_info": {
   "codemirror_mode": {
    "name": "ipython",
    "version": 3
   },
   "file_extension": ".py",
   "mimetype": "text/x-python",
   "name": "python",
   "nbconvert_exporter": "python",
   "pygments_lexer": "ipython3",
   "version": "3.9.7"
  }
 },
 "nbformat": 4,
 "nbformat_minor": 2
}
